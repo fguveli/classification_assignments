{
 "cells": [
  {
   "cell_type": "markdown",
   "metadata": {},
   "source": [
    "# <font color=blue>Assignments for \"Performance Measurement Metrics\"</font>"
   ]
  },
  {
   "cell_type": "markdown",
   "metadata": {},
   "source": [
    "In this assignment, you will measure the performance of the model you created with the Titanic data in the previous lesson. To complete this assignment, send a link to a Jupyter notebook containing solutions to the following tasks.\n",
    "\n",
    "- Evaluate the performance of your model with the metrics you have learned in this course.\n",
    "- Plot the ROC and the precision / recall curves for different \"c\" values."
   ]
  },
  {
   "cell_type": "code",
   "execution_count": 1,
   "metadata": {},
   "outputs": [],
   "source": [
    "import numpy as np\n",
    "import pandas as pd\n",
    "from sklearn.linear_model import LogisticRegression\n",
    "from sklearn.model_selection import train_test_split"
   ]
  },
  {
   "cell_type": "code",
   "execution_count": 3,
   "metadata": {},
   "outputs": [],
   "source": [
    "titanic_df = pd.read_csv(\"titanic.csv\")\n",
    "\n",
    "#Filling age column by using median.\n",
    "titanic_df.Age = titanic_df.Age.fillna(titanic_df.Age.median())\n",
    "#Dropping column with many empty values\n",
    "titanic_df = titanic_df.drop(\"Cabin\",axis=1)\n",
    "\n",
    "titanic_df = pd.concat([titanic_df, pd.get_dummies(titanic_df.Sex, drop_first=True)], axis=1)\n",
    "\n",
    "#Creating X and y variable to use in our model.\n",
    "y = titanic_df.Survived\n",
    "X = titanic_df[['Pclass', 'male', 'Age', 'SibSp','Parch', 'Fare']]\n",
    "\n",
    "#Splitting data to train and tes sets\n",
    "X_train, X_test, y_train, y_test =  train_test_split(X, y, test_size=0.20, random_state=42)"
   ]
  },
  {
   "cell_type": "code",
   "execution_count": 5,
   "metadata": {},
   "outputs": [
    {
     "data": {
      "text/plain": [
       "LogisticRegression(multi_class='multinomial')"
      ]
     },
     "execution_count": 5,
     "metadata": {},
     "output_type": "execute_result"
    }
   ],
   "source": [
    "#Creating a logistic regression object\n",
    "logreg = LogisticRegression(solver='lbfgs', multi_class=\"multinomial\")\n",
    "\n",
    "logreg.fit(X_train, y_train)\n"
   ]
  },
  {
   "cell_type": "code",
   "execution_count": 27,
   "metadata": {},
   "outputs": [],
   "source": [
    "#Importing mterics from sklearn to anaylze model\n",
    "from sklearn.metrics import confusion_matrix, accuracy_score, precision_score, recall_score, f1_score"
   ]
  },
  {
   "cell_type": "code",
   "execution_count": 28,
   "metadata": {},
   "outputs": [],
   "source": [
    "#Predicting survivors by using logistic regression model.\n",
    "train_prediction = logreg.predict(X_train)\n",
    "test_prediction = logreg.predict(X_test)"
   ]
  },
  {
   "cell_type": "code",
   "execution_count": 29,
   "metadata": {},
   "outputs": [],
   "source": [
    "confusion_matrix_train = confusion_matrix(y_train, train_prediction)\n",
    "confusion_matrix_test = confusion_matrix(y_test, test_prediction)"
   ]
  },
  {
   "cell_type": "markdown",
   "metadata": {},
   "source": [
    "#### Confusion Matrix"
   ]
  },
  {
   "cell_type": "code",
   "execution_count": 30,
   "metadata": {},
   "outputs": [
    {
     "name": "stdout",
     "output_type": "stream",
     "text": [
      "Confusion Matrix (Train Data)\n",
      "------------------------------\n",
      "[[389  55]\n",
      " [ 86 182]]\n",
      "\n",
      "Confusion Matrix (Test Data)\n",
      "------------------------------\n",
      "[[92 13]\n",
      " [21 53]]\n"
     ]
    }
   ],
   "source": [
    "print(\"Confusion Matrix (Train Data)\", \"-\"*30, confusion_matrix_train, sep=\"\\n\")\n",
    "print(\"\\nConfusion Matrix (Test Data)\", \"-\"*30, confusion_matrix_test, sep=\"\\n\")"
   ]
  },
  {
   "cell_type": "markdown",
   "metadata": {},
   "source": [
    "#### Accuracy"
   ]
  },
  {
   "cell_type": "code",
   "execution_count": 31,
   "metadata": {},
   "outputs": [
    {
     "name": "stdout",
     "output_type": "stream",
     "text": [
      "Accuracy of train is 0.80 \n",
      "Accuracy of test is 0.81 \n"
     ]
    }
   ],
   "source": [
    "print(\"Accuracy of train is {:.2f} \".format(accuracy_score(y_train, train_prediction)))\n",
    "print(\"Accuracy of test is {:.2f} \".format(accuracy_score(y_test, test_prediction)))"
   ]
  },
  {
   "cell_type": "markdown",
   "metadata": {},
   "source": [
    "#### Precision"
   ]
  },
  {
   "cell_type": "code",
   "execution_count": 32,
   "metadata": {},
   "outputs": [
    {
     "name": "stdout",
     "output_type": "stream",
     "text": [
      "Precision of train is 0.77 \n",
      "Precision of test is 0.80 \n"
     ]
    }
   ],
   "source": [
    "print(\"Precision of train is {:.2f} \".format(precision_score(y_train, train_prediction)))\n",
    "print(\"Precision of test is {:.2f} \".format(precision_score(y_test, test_prediction)))"
   ]
  },
  {
   "cell_type": "markdown",
   "metadata": {},
   "source": [
    "#### Recall"
   ]
  },
  {
   "cell_type": "code",
   "execution_count": 33,
   "metadata": {},
   "outputs": [
    {
     "name": "stdout",
     "output_type": "stream",
     "text": [
      "Recall of train is 0.68 \n",
      "Recall of test is 0.72 \n"
     ]
    }
   ],
   "source": [
    "print(\"Recall of train is {:.2f} \".format(recall_score(y_train, train_prediction)))\n",
    "print(\"Recall of test is {:.2f} \".format(recall_score(y_test, test_prediction)))"
   ]
  },
  {
   "cell_type": "markdown",
   "metadata": {},
   "source": [
    "#### F1 Score"
   ]
  },
  {
   "cell_type": "code",
   "execution_count": 34,
   "metadata": {},
   "outputs": [
    {
     "name": "stdout",
     "output_type": "stream",
     "text": [
      "F1 Score of train is 0.72 \n",
      "F1 Score of test is 0.76 \n"
     ]
    }
   ],
   "source": [
    "print(\"F1 Score of train is {:.2f} \".format(f1_score(y_train, train_prediction)))\n",
    "print(\"F1 Score of test is {:.2f} \".format(f1_score(y_test, test_prediction)))"
   ]
  },
  {
   "cell_type": "markdown",
   "metadata": {},
   "source": [
    "### ROC / AUC"
   ]
  },
  {
   "cell_type": "code",
   "execution_count": 35,
   "metadata": {},
   "outputs": [],
   "source": [
    "from sklearn.metrics import roc_curve, roc_auc_score\n",
    "import matplotlib.pyplot as plt"
   ]
  },
  {
   "cell_type": "code",
   "execution_count": 40,
   "metadata": {},
   "outputs": [
    {
     "data": {
      "image/png": "[encoded data removed]",
      "text/plain": [
       "<Figure size 864x288 with 2 Axes>"
      ]
     },
     "metadata": {
      "needs_background": "light"
     },
     "output_type": "display_data"
    }
   ],
   "source": [
    "train_prediction_proba = logreg.predict_proba(X_train)[:,1]\n",
    "test_prediction_proba = logreg.predict_proba(X_test)[:,1]\n",
    "\n",
    "fpr1, tpr1, thresholds1  = roc_curve(y_train, train_prediction_proba)\n",
    "fpr2, tpr2, thresholds2 = roc_curve(y_test, test_prediction_proba)\n",
    "\n",
    "# Plot ROC curve\n",
    "\n",
    "plt.figure(figsize=(12,4))\n",
    "plt.subplot(121)\n",
    "plt.plot([0, 1], [0, 1], 'k--')\n",
    "plt.plot(fpr1, tpr1)\n",
    "plt.xlabel('False Positive Ratio')\n",
    "plt.ylabel('True Positive Ratio')\n",
    "plt.title('ROC Curve for Train')\n",
    "\n",
    "\n",
    "plt.subplot(122)\n",
    "plt.plot([0, 1], [0, 1], 'k--')\n",
    "plt.plot(fpr2, tpr2)\n",
    "plt.xlabel('False Positive Ratio')\n",
    "plt.ylabel('True Positive Ratio')\n",
    "plt.title('ROC Curve for Test')\n",
    "\n",
    "\n",
    "\n",
    "plt.show()"
   ]
  },
  {
   "cell_type": "markdown",
   "metadata": {},
   "source": [
    "### Precision Recall Curve"
   ]
  },
  {
   "cell_type": "code",
   "execution_count": 42,
   "metadata": {},
   "outputs": [
    {
     "data": {
      "image/png": "[encoded data removed]",
      "text/plain": [
       "<Figure size 864x288 with 2 Axes>"
      ]
     },
     "metadata": {
      "needs_background": "light"
     },
     "output_type": "display_data"
    }
   ],
   "source": [
    "from sklearn.metrics import precision_recall_curve\n",
    "\n",
    "precision1, recall1, _ = precision_recall_curve(y_train, train_prediction_proba)\n",
    "precision2, recall2, _ = precision_recall_curve(y_test, test_prediction_proba)\n",
    "\n",
    "\n",
    "plt.figure(figsize=(12,4))\n",
    "plt.subplot(121)\n",
    "plt.plot(recall1, precision1)\n",
    "plt.xlabel('Recall')\n",
    "plt.ylabel('Precision')\n",
    "plt.title('Precision / Recall Curve for Train')\n",
    "\n",
    "plt.subplot(122)\n",
    "plt.plot(recall2, precision2)\n",
    "plt.xlabel('Recall')\n",
    "plt.ylabel('Precision')\n",
    "plt.title('Precision / Recall Curve for Test')\n",
    "\n",
    "plt.show()"
   ]
  }
 ],
 "metadata": {
  "kernelspec": {
   "display_name": "Python 3",
   "language": "python",
   "name": "python3"
  },
  "language_info": {
   "codemirror_mode": {
    "name": "ipython",
    "version": 3
   },
   "file_extension": ".py",
   "mimetype": "text/x-python",
   "name": "python",
   "nbconvert_exporter": "python",
   "pygments_lexer": "ipython3",
   "version": "3.8.2"
  },
  "latex_envs": {
   "LaTeX_envs_menu_present": true,
   "autoclose": false,
   "autocomplete": true,
   "bibliofile": "biblio.bib",
   "cite_by": "apalike",
   "current_citInitial": 1,
   "eqLabelWithNumbers": true,
   "eqNumInitial": 1,
   "hotkeys": {
    "equation": "Ctrl-E",
    "itemize": "Ctrl-I"
   },
   "labels_anchors": false,
   "latex_user_defs": false,
   "report_style_numbering": false,
   "user_envs_cfg": false
  },
  "varInspector": {
   "cols": {
    "lenName": 16,
    "lenType": 16,
    "lenVar": 40
   },
   "kernels_config": {
    "python": {
     "delete_cmd_postfix": "",
     "delete_cmd_prefix": "del ",
     "library": "var_list.py",
     "varRefreshCmd": "print(var_dic_list())"
    },
    "r": {
     "delete_cmd_postfix": ") ",
     "delete_cmd_prefix": "rm(",
     "library": "var_list.r",
     "varRefreshCmd": "cat(var_dic_list()) "
    }
   },
   "types_to_exclude": [
    "module",
    "function",
    "builtin_function_or_method",
    "instance",
    "_Feature"
   ],
   "window_display": false
  }
 },
 "nbformat": 4,
 "nbformat_minor": 4
}
